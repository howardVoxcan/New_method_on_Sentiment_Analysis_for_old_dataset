{
  "cells": [
    {
      "cell_type": "code",
      "execution_count": 1,
      "metadata": {
        "colab": {
          "base_uri": "https://localhost:8080/"
        },
        "id": "rMCak-itijXp",
        "outputId": "0db171a6-c743-4165-f25f-8301235b0fa6"
      },
      "outputs": [
        {
          "name": "stdout",
          "output_type": "stream",
          "text": [
            "Note: you may need to restart the kernel to use updated packages.\n"
          ]
        }
      ],
      "source": [
        "pip install underthesea pandas regex --quiet"
      ]
    },
    {
      "cell_type": "code",
      "execution_count": 2,
      "metadata": {
        "id": "cJK5bQiwimWh"
      },
      "outputs": [],
      "source": [
        "import pandas as pd\n",
        "import re\n",
        "from underthesea import text_normalize, word_tokenize"
      ]
    },
    {
      "cell_type": "code",
      "execution_count": 3,
      "metadata": {
        "colab": {
          "base_uri": "https://localhost:8080/"
        },
        "id": "em-W1cSNjJyK",
        "outputId": "cb9d2ea1-64c2-4dc6-e881-2a9757caf2bf"
      },
      "outputs": [
        {
          "name": "stdout",
          "output_type": "stream",
          "text": [
            "Train columns: ['content', 'sentiment', 'topic']\n",
            "Dev   columns: ['content', 'sentiment', 'topic']\n",
            "Test  columns: ['content', 'sentiment', 'topic']\n"
          ]
        }
      ],
      "source": [
        "df_train = pd.read_csv( \"./df_train.csv\", encoding=\"utf-8\")\n",
        "df_dev   = pd.read_csv( \"./df_dev.csv\",   encoding=\"utf-8\")\n",
        "df_test  = pd.read_csv( \"./df_test.csv\",  encoding=\"utf-8\")\n",
        "\n",
        "print(\"Train columns:\", df_train.columns.tolist())\n",
        "print(\"Dev   columns:\", df_dev.columns.tolist())\n",
        "print(\"Test  columns:\", df_test.columns.tolist())"
      ]
    },
    {
      "cell_type": "code",
      "execution_count": 4,
      "metadata": {
        "id": "LuKeQHGgJUpq"
      },
      "outputs": [],
      "source": [
        "for df in (df_train, df_dev, df_test):\n",
        "    if 'sentiment' in df.columns:\n",
        "        df.rename(columns={'sentiment':'label'}, inplace=True)\n",
        "    assert 'content' in df.columns and 'label' in df.columns, \\\n",
        "        f\"Thiếu cột ở frame với columns={df.columns.tolist()}\"\n",
        "    df['content'] = df['content'].fillna('').astype(str)"
      ]
    },
    {
      "cell_type": "code",
      "execution_count": 5,
      "metadata": {
        "colab": {
          "base_uri": "https://localhost:8080/"
        },
        "id": "f4hy3qBajXK2",
        "outputId": "e9979498-bd23-4e4d-a3ab-773b6e17890a"
      },
      "outputs": [
        {
          "name": "stdout",
          "output_type": "stream",
          "text": [
            "Loaded splits: 11426 1583 3166\n"
          ]
        }
      ],
      "source": [
        "print(\"Loaded splits:\", len(df_train), len(df_dev), len(df_test))"
      ]
    },
    {
      "cell_type": "code",
      "execution_count": 6,
      "metadata": {
        "id": "g3VN4uZzkZdw"
      },
      "outputs": [],
      "source": [
        "df_misspell = pd.read_csv('./vietnamese-misspell.csv')\n",
        "misspell_dict = dict(zip(df_misspell['wrong'], df_misspell['right']))"
      ]
    },
    {
      "cell_type": "code",
      "execution_count": 7,
      "metadata": {
        "colab": {
          "base_uri": "https://localhost:8080/"
        },
        "id": "LwdVH0jBq2uC",
        "outputId": "9d12a9ea-d5e3-43df-d07b-c5b7056e2b65"
      },
      "outputs": [
        {
          "name": "stdout",
          "output_type": "stream",
          "text": [
            "Ví dụ teencode_map: [('ctrai', 'con'), ('khôg', 'không'), ('bme', 'bố'), ('cta', 'chúng'), ('mih', 'mình'), ('mqh', 'mối'), ('cgai', 'con'), ('nhữg', 'những'), ('mng', 'mọi'), ('svtn', 'sinh')]\n"
          ]
        }
      ],
      "source": [
        "teencode_map = {}\n",
        "with open(\"./vietnamese-teencode.txt\", \"r\", encoding=\"utf8\") as f:\n",
        "    for line in f:\n",
        "        parts = line.strip().split()\n",
        "        if len(parts) >= 2:\n",
        "            teencode_map[parts[0]] = parts[1]\n",
        "print(\"Ví dụ teencode_map:\", list(teencode_map.items())[:10])"
      ]
    },
    {
      "cell_type": "code",
      "execution_count": 8,
      "metadata": {},
      "outputs": [],
      "source": [
        "emoticon_dict = {\n",
        "    \":)\": \"☺️\",\n",
        "    \":))\": \"☺️\",\n",
        "    \":)))\": \"☺️\",\n",
        "    \"=))\": \"😄\",\n",
        "    \"=)\": \"😄\",\n",
        "    \":D\": \"😀\",\n",
        "    \":DD\": \"😁\",\n",
        "    \":<\": \"😞\",\n",
        "    \":(\": \"☹️\",\n",
        "    \":'(\": \"😢\",\n",
        "    \":'(\": \"😢\",\n",
        "    \":')\": \"😂\",\n",
        "    \":')\": \"😂\",\n",
        "    \"<3\": \"❤️\",\n",
        "    \"</3\": \"💔\",\n",
        "    \":P\": \"😛\",\n",
        "    \":p\": \"😛\",\n",
        "    \":O\": \"😲\",\n",
        "    \":o\": \"😲\",\n",
        "    \";)\": \"😉\",\n",
        "    \";-)\": \"😉\",\n",
        "    \":3\": \"😺\",\n",
        "    \":^)\": \"😊\",\n",
        "    \"^_^\": \"😊\",\n",
        "    \"-_-\": \"😑\",\n",
        "    \">_<\": \"😣\",\n",
        "    \"XD\": \"😆\",\n",
        "    \"xD\": \"😆\",\n",
        "    \"T_T\": \"😭\",\n",
        "    \";_;\": \"😭\",\n",
        "    \":|\": \"😐\",\n",
        "    \":/\": \"😕\",\n",
        "    \":-/\": \"😕\",\n",
        "    \":-\\\\\": \"😕\",\n",
        "    \":'D\": \"😆\",\n",
        "    \":'D\": \"😆\",\n",
        "    \":-*\": \"😘\",\n",
        "    \":*\": \"😘\",\n",
        "    \"<<\": \"😓\",\n",
        "    \">_>\": \"😒\",\n",
        "    \"<_<\": \"😒\",\n",
        "    \"^\\\\^\": \"😆\",\n",
        "    \"\\\\^_^/\": \"🎉\",\n",
        "    \"*^_^*\": \"🎉\",\n",
        "    \"\\\\o/\": \"🙌\",\n",
        "    \"\\\\O/\": \"🙌\",\n",
        "    \"O_O\": \"😳\",\n",
        "    \"o_o\": \"😳\",\n",
        "    \">:O\": \"😠\",\n",
        "    \"^^\": \"☺️\"\n",
        "}\n"
      ]
    },
    {
      "cell_type": "code",
      "execution_count": 9,
      "metadata": {},
      "outputs": [],
      "source": [
        "def standardize_emoticon(text):\n",
        "    # Gộp các chuỗi emoticon thường gặp về chuẩn (gộp lặp, ví dụ ^^ ^^ ^^ -> ^^)\n",
        "    # Gộp emoticon kiểu :) về 1\n",
        "    text = re.sub(r'((:\\)+))', ':)', text)\n",
        "    text = re.sub(r'((=\\)+))', '=)', text)\n",
        "    text = re.sub(r'((\\^_?\\^)+)', '^^', text)        # ^^, ^_^, ^^ ^^, ...\n",
        "    text = re.sub(r'(<3+)', '<3', text)\n",
        "    text = re.sub(r'(\\)+)', ')', text)\n",
        "    text = re.sub(r'(\\(+)', '(', text)\n",
        "    # Gộp mọi chuỗi ^^ liên tiếp về 1 ^^ (kể cả có cách ra)\n",
        "    text = re.sub(r'(\\^\\^)(\\s+\\^\\^)+', '^^', text)\n",
        "    # Gộp ((\n",
        "    text = re.sub(r'(\\(+)', '(', text)\n",
        "    text = re.sub(r'(\\)+)', ')', text)\n",
        "    return text"
      ]
    },
    {
      "cell_type": "code",
      "execution_count": 10,
      "metadata": {},
      "outputs": [],
      "source": [
        "def standardize_emoticon(text):\n",
        "    # Gộp các chuỗi emoticon thường gặp về chuẩn (gộp lặp, ví dụ ^^ ^^ ^^ -> ^^)\n",
        "    # Gộp emoticon kiểu :) về 1\n",
        "    text = re.sub(r'((:\\)+))', ':)', text)\n",
        "    text = re.sub(r'((=\\)+))', '=)', text)\n",
        "    text = re.sub(r'((\\^_?\\^)+)', '^^', text)        # ^^, ^_^, ^^ ^^, ...\n",
        "    text = re.sub(r'(<3+)', '<3', text)\n",
        "    text = re.sub(r'(\\)+)', ')', text)\n",
        "    text = re.sub(r'(\\(+)', '(', text)\n",
        "    # Gộp mọi chuỗi ^^ liên tiếp về 1 ^^ (kể cả có cách ra)\n",
        "    text = re.sub(r'(\\^\\^)(\\s+\\^\\^)+', '^^', text)\n",
        "    # Gộp ((\n",
        "    text = re.sub(r'(\\(+)', '(', text)\n",
        "    text = re.sub(r'(\\)+)', ')', text)\n",
        "    return text"
      ]
    },
    {
      "cell_type": "code",
      "execution_count": 11,
      "metadata": {},
      "outputs": [],
      "source": [
        "def convert_emoticon(text, emoticon_dict):\n",
        "    # Duyệt emoticon dài trước\n",
        "    for emo in sorted(emoticon_dict, key=len, reverse=True):\n",
        "        # Chỉ thay thế khi là nguyên một cụm (dùng word boundary nếu cần)\n",
        "        text = re.sub(re.escape(emo) + r'(?=\\s|$)', emoticon_dict[emo], text)\n",
        "    return text"
      ]
    },
    {
      "cell_type": "code",
      "execution_count": 12,
      "metadata": {},
      "outputs": [],
      "source": [
        "def standardize_word(text, misspell_dict):\n",
        "    # Gộp ký tự kéo dài (đẹpppp -> đẹp)\n",
        "    text = re.sub(r'(\\w)\\1{2,}', r'\\1', text)\n",
        "    # Chuẩn hóa chính tả/viết tắt\n",
        "    for wrong, right in misspell_dict.items():\n",
        "        text = re.sub(r'\\b' + re.escape(wrong) + r'\\b', right, text)\n",
        "    return text"
      ]
    },
    {
      "cell_type": "code",
      "execution_count": 13,
      "metadata": {},
      "outputs": [],
      "source": [
        "teencode_map = {}\n",
        "with open(\"./vietnamese-teencode.txt\", \"r\", encoding=\"utf8\") as f:\n",
        "    for line in f:\n",
        "        parts = line.strip().split()\n",
        "        if len(parts) >= 2:\n",
        "            teencode_map[parts[0]] = parts[1]"
      ]
    },
    {
      "cell_type": "code",
      "execution_count": 14,
      "metadata": {},
      "outputs": [],
      "source": [
        "import re\n",
        "\n",
        "def remove_duplicate_emoji(text):\n",
        "    # Xóa emoji trùng lặp liên tiếp (vd: 😄😄😄 -> 😄)\n",
        "    emoji_pattern = re.compile(\n",
        "        r'([\\U0001F600-\\U0001F64F\\U0001F300-\\U0001F5FF\\U0001F680-\\U0001F6FF\\U0001F1E0-\\U0001F1FF])\\1+'\n",
        "    )\n",
        "    return emoji_pattern.sub(r'\\1', text)\n"
      ]
    },
    {
      "cell_type": "code",
      "execution_count": 15,
      "metadata": {},
      "outputs": [],
      "source": [
        "def preprocess_text(text, emoticon_dict, misspell_dict):\n",
        "    text = str(text)\n",
        "    text = standardize_emoticon(text)\n",
        "    text = convert_emoticon(text, emoticon_dict)\n",
        "    text = remove_duplicate_emoji(text)\n",
        "    for abbr, full in teencode_map.items():\n",
        "        pattern = rf\"\\b{re.escape(abbr)}\\b\"\n",
        "        text = re.sub(pattern, full, text, flags=re.IGNORECASE)\n",
        "    text = standardize_word(text, misspell_dict)\n",
        "    return text"
      ]
    },
    {
      "cell_type": "code",
      "execution_count": 16,
      "metadata": {},
      "outputs": [
        {
          "name": "stdout",
          "output_type": "stream",
          "text": [
            "ước gì sau này về già vẫn có thể như cụ này ☺️ ☺️ ☺️\n"
          ]
        }
      ],
      "source": [
        "text = \"ước gì sau này về già vẫn có thể như cụ này :)) :)))) :)))\"\n",
        "text = preprocess_text(text, emoticon_dict, misspell_dict)\n",
        "print(text) "
      ]
    },
    {
      "cell_type": "code",
      "execution_count": 17,
      "metadata": {},
      "outputs": [
        {
          "data": {
            "text/html": [
              "<div>\n",
              "<style scoped>\n",
              "    .dataframe tbody tr th:only-of-type {\n",
              "        vertical-align: middle;\n",
              "    }\n",
              "\n",
              "    .dataframe tbody tr th {\n",
              "        vertical-align: top;\n",
              "    }\n",
              "\n",
              "    .dataframe thead th {\n",
              "        text-align: right;\n",
              "    }\n",
              "</style>\n",
              "<table border=\"1\" class=\"dataframe\">\n",
              "  <thead>\n",
              "    <tr style=\"text-align: right;\">\n",
              "      <th></th>\n",
              "      <th>content</th>\n",
              "      <th>content_clean</th>\n",
              "    </tr>\n",
              "  </thead>\n",
              "  <tbody>\n",
              "    <tr>\n",
              "      <th>0</th>\n",
              "      <td>nói tiếng anh lưu loát .</td>\n",
              "      <td>nói tiếng anh lưu loát .</td>\n",
              "    </tr>\n",
              "    <tr>\n",
              "      <th>1</th>\n",
              "      <td>giáo viên rất vui tính .</td>\n",
              "      <td>giáo viên rất vui tính .</td>\n",
              "    </tr>\n",
              "    <tr>\n",
              "      <th>2</th>\n",
              "      <td>cô max có tâm .</td>\n",
              "      <td>cô max có tâm .</td>\n",
              "    </tr>\n",
              "    <tr>\n",
              "      <th>3</th>\n",
              "      <td>giảng bài thu hút , dí dỏm .</td>\n",
              "      <td>giảng bài thu hút , dí dỏm .</td>\n",
              "    </tr>\n",
              "    <tr>\n",
              "      <th>4</th>\n",
              "      <td>giáo viên không giảng dạy kiến thức , hướng dẫ...</td>\n",
              "      <td>giáo viên không giảng dạy kiến thức , hướng dẫ...</td>\n",
              "    </tr>\n",
              "    <tr>\n",
              "      <th>5</th>\n",
              "      <td>thầy dạy nhiệt tình và tâm huyết .</td>\n",
              "      <td>thầy dạy nhiệt tình và tâm huyết .</td>\n",
              "    </tr>\n",
              "    <tr>\n",
              "      <th>6</th>\n",
              "      <td>tính điểm thi đua các nhóm .</td>\n",
              "      <td>tính điểm thi đua các nhóm .</td>\n",
              "    </tr>\n",
              "    <tr>\n",
              "      <th>7</th>\n",
              "      <td>thầy nhiệt tình giảng lại cho học sinh .</td>\n",
              "      <td>thầy nhiệt tình giảng lại cho học sinh .</td>\n",
              "    </tr>\n",
              "    <tr>\n",
              "      <th>8</th>\n",
              "      <td>có đôi lúc nói hơi nhanh làm sinh viên không t...</td>\n",
              "      <td>có đôi lúc nói hơi nhanh làm sinh viên không t...</td>\n",
              "    </tr>\n",
              "    <tr>\n",
              "      <th>9</th>\n",
              "      <td>giảng dạy nhiệt tình , liên hệ thực tế khá nhi...</td>\n",
              "      <td>giảng dạy nhiệt tình , liên hệ thực tế khá nhi...</td>\n",
              "    </tr>\n",
              "  </tbody>\n",
              "</table>\n",
              "</div>"
            ],
            "text/plain": [
              "                                             content  \\\n",
              "0                           nói tiếng anh lưu loát .   \n",
              "1                           giáo viên rất vui tính .   \n",
              "2                                    cô max có tâm .   \n",
              "3                       giảng bài thu hút , dí dỏm .   \n",
              "4  giáo viên không giảng dạy kiến thức , hướng dẫ...   \n",
              "5                 thầy dạy nhiệt tình và tâm huyết .   \n",
              "6                       tính điểm thi đua các nhóm .   \n",
              "7           thầy nhiệt tình giảng lại cho học sinh .   \n",
              "8  có đôi lúc nói hơi nhanh làm sinh viên không t...   \n",
              "9  giảng dạy nhiệt tình , liên hệ thực tế khá nhi...   \n",
              "\n",
              "                                       content_clean  \n",
              "0                           nói tiếng anh lưu loát .  \n",
              "1                           giáo viên rất vui tính .  \n",
              "2                                    cô max có tâm .  \n",
              "3                       giảng bài thu hút , dí dỏm .  \n",
              "4  giáo viên không giảng dạy kiến thức , hướng dẫ...  \n",
              "5                 thầy dạy nhiệt tình và tâm huyết .  \n",
              "6                       tính điểm thi đua các nhóm .  \n",
              "7           thầy nhiệt tình giảng lại cho học sinh .  \n",
              "8  có đôi lúc nói hơi nhanh làm sinh viên không t...  \n",
              "9  giảng dạy nhiệt tình , liên hệ thực tế khá nhi...  "
            ]
          },
          "execution_count": 17,
          "metadata": {},
          "output_type": "execute_result"
        }
      ],
      "source": [
        "df_test['content_clean'] = df_test['content'].apply(lambda x: preprocess_text(x, emoticon_dict, misspell_dict))\n",
        "df_test[['content', 'content_clean']].head(10)"
      ]
    },
    {
      "cell_type": "code",
      "execution_count": 18,
      "metadata": {},
      "outputs": [
        {
          "data": {
            "text/html": [
              "<div>\n",
              "<style scoped>\n",
              "    .dataframe tbody tr th:only-of-type {\n",
              "        vertical-align: middle;\n",
              "    }\n",
              "\n",
              "    .dataframe tbody tr th {\n",
              "        vertical-align: top;\n",
              "    }\n",
              "\n",
              "    .dataframe thead th {\n",
              "        text-align: right;\n",
              "    }\n",
              "</style>\n",
              "<table border=\"1\" class=\"dataframe\">\n",
              "  <thead>\n",
              "    <tr style=\"text-align: right;\">\n",
              "      <th></th>\n",
              "      <th>content</th>\n",
              "      <th>content_clean</th>\n",
              "    </tr>\n",
              "  </thead>\n",
              "  <tbody>\n",
              "    <tr>\n",
              "      <th>0</th>\n",
              "      <td>slide giáo trình đầy đủ .</td>\n",
              "      <td>slide giáo trình đầy đủ .</td>\n",
              "    </tr>\n",
              "    <tr>\n",
              "      <th>1</th>\n",
              "      <td>nhiệt tình giảng dạy , gần gũi với sinh viên .</td>\n",
              "      <td>nhiệt tình giảng dạy , gần gũi với sinh viên .</td>\n",
              "    </tr>\n",
              "    <tr>\n",
              "      <th>2</th>\n",
              "      <td>đi học đầy đủ full điểm chuyên cần .</td>\n",
              "      <td>đi học đầy đủ full điểm chuyên cần .</td>\n",
              "    </tr>\n",
              "    <tr>\n",
              "      <th>3</th>\n",
              "      <td>chưa áp dụng công nghệ thông tin và các thiết ...</td>\n",
              "      <td>chưa áp dụng công nghệ thông tin và các thiết ...</td>\n",
              "    </tr>\n",
              "    <tr>\n",
              "      <th>4</th>\n",
              "      <td>thầy giảng bài hay , có nhiều bài tập ví dụ ng...</td>\n",
              "      <td>thầy giảng bài hay , có nhiều bài tập ví dụ ng...</td>\n",
              "    </tr>\n",
              "    <tr>\n",
              "      <th>5</th>\n",
              "      <td>giảng viên đảm bảo thời gian lên lớp , tích cự...</td>\n",
              "      <td>giảng viên đảm bảo thời gian lên lớp , tích cự...</td>\n",
              "    </tr>\n",
              "    <tr>\n",
              "      <th>6</th>\n",
              "      <td>em sẽ nợ môn này , nhưng em sẽ học lại ở các h...</td>\n",
              "      <td>em sẽ nợ môn này , nhưng em sẽ học lại ở các h...</td>\n",
              "    </tr>\n",
              "    <tr>\n",
              "      <th>7</th>\n",
              "      <td>thời lượng học quá dài , không đảm bảo tiếp th...</td>\n",
              "      <td>thời lượng học quá dài , không đảm bảo tiếp th...</td>\n",
              "    </tr>\n",
              "    <tr>\n",
              "      <th>8</th>\n",
              "      <td>nội dung môn học có phần thiếu trọng tâm , hầu...</td>\n",
              "      <td>nội dung môn học có phần thiếu trọng tâm , hầu...</td>\n",
              "    </tr>\n",
              "    <tr>\n",
              "      <th>9</th>\n",
              "      <td>cần nói rõ hơn bằng cách trình bày lên bảng th...</td>\n",
              "      <td>cần nói rõ hơn bằng cách trình bày lên bảng th...</td>\n",
              "    </tr>\n",
              "  </tbody>\n",
              "</table>\n",
              "</div>"
            ],
            "text/plain": [
              "                                             content  \\\n",
              "0                          slide giáo trình đầy đủ .   \n",
              "1     nhiệt tình giảng dạy , gần gũi với sinh viên .   \n",
              "2               đi học đầy đủ full điểm chuyên cần .   \n",
              "3  chưa áp dụng công nghệ thông tin và các thiết ...   \n",
              "4  thầy giảng bài hay , có nhiều bài tập ví dụ ng...   \n",
              "5  giảng viên đảm bảo thời gian lên lớp , tích cự...   \n",
              "6  em sẽ nợ môn này , nhưng em sẽ học lại ở các h...   \n",
              "7  thời lượng học quá dài , không đảm bảo tiếp th...   \n",
              "8  nội dung môn học có phần thiếu trọng tâm , hầu...   \n",
              "9  cần nói rõ hơn bằng cách trình bày lên bảng th...   \n",
              "\n",
              "                                       content_clean  \n",
              "0                          slide giáo trình đầy đủ .  \n",
              "1     nhiệt tình giảng dạy , gần gũi với sinh viên .  \n",
              "2               đi học đầy đủ full điểm chuyên cần .  \n",
              "3  chưa áp dụng công nghệ thông tin và các thiết ...  \n",
              "4  thầy giảng bài hay , có nhiều bài tập ví dụ ng...  \n",
              "5  giảng viên đảm bảo thời gian lên lớp , tích cự...  \n",
              "6  em sẽ nợ môn này , nhưng em sẽ học lại ở các h...  \n",
              "7  thời lượng học quá dài , không đảm bảo tiếp th...  \n",
              "8  nội dung môn học có phần thiếu trọng tâm , hầu...  \n",
              "9  cần nói rõ hơn bằng cách trình bày lên bảng th...  "
            ]
          },
          "execution_count": 18,
          "metadata": {},
          "output_type": "execute_result"
        }
      ],
      "source": [
        "df_train['content_clean'] = df_train['content'].apply(lambda x: preprocess_text(x, emoticon_dict, misspell_dict))\n",
        "df_train[['content', 'content_clean']].head(10)"
      ]
    },
    {
      "cell_type": "code",
      "execution_count": 19,
      "metadata": {},
      "outputs": [
        {
          "data": {
            "text/html": [
              "<div>\n",
              "<style scoped>\n",
              "    .dataframe tbody tr th:only-of-type {\n",
              "        vertical-align: middle;\n",
              "    }\n",
              "\n",
              "    .dataframe tbody tr th {\n",
              "        vertical-align: top;\n",
              "    }\n",
              "\n",
              "    .dataframe thead th {\n",
              "        text-align: right;\n",
              "    }\n",
              "</style>\n",
              "<table border=\"1\" class=\"dataframe\">\n",
              "  <thead>\n",
              "    <tr style=\"text-align: right;\">\n",
              "      <th></th>\n",
              "      <th>content</th>\n",
              "      <th>content_clean</th>\n",
              "    </tr>\n",
              "  </thead>\n",
              "  <tbody>\n",
              "    <tr>\n",
              "      <th>0</th>\n",
              "      <td>giáo trình chưa cụ thể .</td>\n",
              "      <td>giáo trình chưa cụ thể .</td>\n",
              "    </tr>\n",
              "    <tr>\n",
              "      <th>1</th>\n",
              "      <td>giảng buồn ngủ .</td>\n",
              "      <td>giảng buồn ngủ .</td>\n",
              "    </tr>\n",
              "    <tr>\n",
              "      <th>2</th>\n",
              "      <td>giáo viên vui tính , tận tâm .</td>\n",
              "      <td>giáo viên vui tính , tận tâm .</td>\n",
              "    </tr>\n",
              "    <tr>\n",
              "      <th>3</th>\n",
              "      <td>giảng viên nên giao bài tập nhiều hơn , chia n...</td>\n",
              "      <td>giảng viên nên giao bài tập nhiều hơn , chia n...</td>\n",
              "    </tr>\n",
              "    <tr>\n",
              "      <th>4</th>\n",
              "      <td>giảng viên cần giảng bài chi tiết hơn , đi sâu...</td>\n",
              "      <td>giảng viên cần giảng bài chi tiết hơn , đi sâu...</td>\n",
              "    </tr>\n",
              "    <tr>\n",
              "      <th>5</th>\n",
              "      <td>nên có giảng viên nước ngoài dạy để sinh viên ...</td>\n",
              "      <td>nên có giảng viên nước ngoài dạy để sinh viên ...</td>\n",
              "    </tr>\n",
              "    <tr>\n",
              "      <th>6</th>\n",
              "      <td>nên có bài tập lớn đồ án môn học .</td>\n",
              "      <td>nên có bài tập lớn đồ án môn học .</td>\n",
              "    </tr>\n",
              "    <tr>\n",
              "      <th>7</th>\n",
              "      <td>giảng viên đảm bảo nội dung học , phân tích gi...</td>\n",
              "      <td>giảng viên đảm bảo nội dung học , phân tích gi...</td>\n",
              "    </tr>\n",
              "    <tr>\n",
              "      <th>8</th>\n",
              "      <td>nêu rõ mục tiêu , mục đích môn học để sinh viê...</td>\n",
              "      <td>nêu rõ mục tiêu , mục đích môn học để sinh viê...</td>\n",
              "    </tr>\n",
              "    <tr>\n",
              "      <th>9</th>\n",
              "      <td>có một số vấn đề nói chưa rõ .</td>\n",
              "      <td>có một số vấn đề nói chưa rõ .</td>\n",
              "    </tr>\n",
              "  </tbody>\n",
              "</table>\n",
              "</div>"
            ],
            "text/plain": [
              "                                             content  \\\n",
              "0                           giáo trình chưa cụ thể .   \n",
              "1                                   giảng buồn ngủ .   \n",
              "2                     giáo viên vui tính , tận tâm .   \n",
              "3  giảng viên nên giao bài tập nhiều hơn , chia n...   \n",
              "4  giảng viên cần giảng bài chi tiết hơn , đi sâu...   \n",
              "5  nên có giảng viên nước ngoài dạy để sinh viên ...   \n",
              "6                 nên có bài tập lớn đồ án môn học .   \n",
              "7  giảng viên đảm bảo nội dung học , phân tích gi...   \n",
              "8  nêu rõ mục tiêu , mục đích môn học để sinh viê...   \n",
              "9                     có một số vấn đề nói chưa rõ .   \n",
              "\n",
              "                                       content_clean  \n",
              "0                           giáo trình chưa cụ thể .  \n",
              "1                                   giảng buồn ngủ .  \n",
              "2                     giáo viên vui tính , tận tâm .  \n",
              "3  giảng viên nên giao bài tập nhiều hơn , chia n...  \n",
              "4  giảng viên cần giảng bài chi tiết hơn , đi sâu...  \n",
              "5  nên có giảng viên nước ngoài dạy để sinh viên ...  \n",
              "6                 nên có bài tập lớn đồ án môn học .  \n",
              "7  giảng viên đảm bảo nội dung học , phân tích gi...  \n",
              "8  nêu rõ mục tiêu , mục đích môn học để sinh viê...  \n",
              "9                     có một số vấn đề nói chưa rõ .  "
            ]
          },
          "execution_count": 19,
          "metadata": {},
          "output_type": "execute_result"
        }
      ],
      "source": [
        "df_dev['content_clean'] = df_dev['content'].apply(lambda x: preprocess_text(x, emoticon_dict, misspell_dict))\n",
        "df_dev[['content', 'content_clean']].head(10)"
      ]
    },
    {
      "cell_type": "code",
      "execution_count": 20,
      "metadata": {},
      "outputs": [
        {
          "name": "stdout",
          "output_type": "stream",
          "text": [
            "Cleaned files written to /content/\n"
          ]
        }
      ],
      "source": [
        "df_train.to_csv(\"./df_train_clean.csv\", index=False)\n",
        "df_dev  .to_csv(\"./df_dev_clean.csv\",   index=False)\n",
        "df_test .to_csv(\"./df_test_clean.csv\",  index=False)\n",
        "print(\"Cleaned files written to /content/\")"
      ]
    },
    {
      "cell_type": "code",
      "execution_count": null,
      "metadata": {},
      "outputs": [],
      "source": []
    }
  ],
  "metadata": {
    "colab": {
      "provenance": []
    },
    "kernelspec": {
      "display_name": "Python 3",
      "name": "python3"
    },
    "language_info": {
      "codemirror_mode": {
        "name": "ipython",
        "version": 3
      },
      "file_extension": ".py",
      "mimetype": "text/x-python",
      "name": "python",
      "nbconvert_exporter": "python",
      "pygments_lexer": "ipython3",
      "version": "3.10.9"
    }
  },
  "nbformat": 4,
  "nbformat_minor": 0
}
